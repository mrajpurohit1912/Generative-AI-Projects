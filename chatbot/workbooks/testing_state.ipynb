{
 "cells": [
  {
   "cell_type": "code",
   "execution_count": 1,
   "id": "27edadcc",
   "metadata": {},
   "outputs": [],
   "source": [
    "import os\n",
    "import json\n",
    "from dotenv import load_dotenv\n",
    "from autogen_agentchat.agents import AssistantAgent\n",
    "from autogen_ext.models.openai import OpenAIChatCompletionClient\n",
    "from autogen_ext.models.ollama import OllamaChatCompletionClient\n",
    "\n",
    "load_dotenv()\n",
    "\n",
    "OPEN_AI_API_KEYS = os.getenv('OPEN_AI_API_KEYS')\n"
   ]
  },
  {
   "cell_type": "code",
   "execution_count": 2,
   "id": "bb6e34ae",
   "metadata": {},
   "outputs": [],
   "source": [
    "# model_info = {\"description\":\"Open AI LLM model\",\n",
    "#               \"json_output\": False  ,\n",
    "#               \"vision\":False,\n",
    "#               \"function_calling\":True,\n",
    "#               \"family\":\"unknown\"\n",
    "#               }\n",
    "\n",
    "# llm_client = OpenAIChatCompletionClient(model=\"gpt-oss-120b\",api_key=OPEN_AI_API_KEYS,model_info=model_info)\n",
    "# llm_client\n",
    "\n",
    "llm = OllamaChatCompletionClient(model=\"codellama:latest\",host=\"http://localhost:11434\",model_info={\n",
    "        \"description\": \"codellama:latest running locally using ollama server\",\n",
    "        \"json_output\": False  ,\n",
    "        \"vision\":False,\n",
    "        \"function_calling\":True\n",
    "    })\n"
   ]
  },
  {
   "cell_type": "code",
   "execution_count": 3,
   "id": "a481071f",
   "metadata": {},
   "outputs": [
    {
     "data": {
      "text/plain": [
       "<autogen_agentchat.agents._assistant_agent.AssistantAgent at 0x7188a83d71d0>"
      ]
     },
     "execution_count": 3,
     "metadata": {},
     "output_type": "execute_result"
    }
   ],
   "source": [
    "assistant_agent = AssistantAgent('ai_assistant',llm)\n",
    "\n",
    "assistant_agent"
   ]
  },
  {
   "cell_type": "code",
   "execution_count": 4,
   "id": "f402af83",
   "metadata": {},
   "outputs": [
    {
     "data": {
      "text/plain": [
       "{'type': 'AssistantAgentState',\n",
       " 'version': '1.0.0',\n",
       " 'llm_context': {'messages': [{'content': 'Hey there',\n",
       "    'source': 'user',\n",
       "    'type': 'UserMessage'},\n",
       "   {'content': \"Hello! I'm here to help you with any questions or tasks you may have. What would you like me to assist you with today?\",\n",
       "    'thought': None,\n",
       "    'source': 'ai_assistant',\n",
       "    'type': 'AssistantMessage'},\n",
       "   {'content': 'my names is mahavir rajpurohit. i am a software developer and i live in mumbai maharashtra. i am a full stack developer. i use js for frontend and python for backend',\n",
       "    'source': 'user',\n",
       "    'type': 'UserMessage'},\n",
       "   {'content': \"Greetings, Mahavir! It's great to meet you. I can see that you have a good background in software development. As a helpful AI assistant, I can offer some suggestions on how you can improve your skills and knowledge.\\n\\nFirstly, it would be beneficial for you to learn more about different programming languages and frameworks used in the industry. You can explore online resources such as Udemy, Coursera, or edX to gain a deeper understanding of these topics. Additionally, you can also look into books and online courses that focus on software development and related fields.\\n\\nSecondly, you can also consider joining online communities or forums where developers share knowledge and collaborate with each other. This would be an excellent way to connect with experienced developers and learn from their experiences.\\n\\nLastly, it's important to practice your coding skills by working on real-world projects or taking on freelance work. This will help you gain hands-on experience and improve your problem-solving abilities.\\n\\nKeep in mind that software development is a continuous learning process, so it's essential to stay up-to-date with the latest trends and technologies. I hope these suggestions are helpful, Mahavir! If you have any further questions or need assistance, feel free to ask.\",\n",
       "    'thought': None,\n",
       "    'source': 'ai_assistant',\n",
       "    'type': 'AssistantMessage'},\n",
       "   {'content': 'can u become my assitant.i will need your help when i am bulding my projects so i might ask question and ask you about erros so pls before answering you can ask me you want response for js or python',\n",
       "    'source': 'user',\n",
       "    'type': 'UserMessage'},\n",
       "   {'content': \"Of course, I'd be happy to assist you with your projects! I can provide guidance and answer any questions you may have related to JavaScript or Python. Please feel free to ask me anything, and I'll do my best to help.\",\n",
       "    'thought': None,\n",
       "    'source': 'ai_assistant',\n",
       "    'type': 'AssistantMessage'}]}}"
      ]
     },
     "execution_count": 4,
     "metadata": {},
     "output_type": "execute_result"
    }
   ],
   "source": [
    "with open(\"testing_context.json\",\"r+\") as f:\n",
    "    context = json.load(f)\n",
    "\n",
    "context"
   ]
  },
  {
   "cell_type": "code",
   "execution_count": 5,
   "id": "396e50af",
   "metadata": {},
   "outputs": [],
   "source": [
    "await assistant_agent.load_state(context)"
   ]
  },
  {
   "cell_type": "code",
   "execution_count": null,
   "id": "c735f723",
   "metadata": {},
   "outputs": [
    {
     "data": {
      "text/plain": [
       "TaskResult(messages=[TextMessage(id='05d03c30-b6de-4af3-80a5-16eac7117c3a', source='user', models_usage=None, metadata={}, created_at=datetime.datetime(2025, 9, 8, 14, 42, 40, 713678, tzinfo=datetime.timezone.utc), content='What was my last question?', type='TextMessage'), TextMessage(id='2ce738ff-38d5-4122-b1a5-bdefdca06bcf', source='ai_assistant', models_usage=RequestUsage(prompt_tokens=561, completion_tokens=55), metadata={}, created_at=datetime.datetime(2025, 9, 8, 14, 42, 44, 697217, tzinfo=datetime.timezone.utc), content='Your last question was: \"can u become my assitant.i will need your help when i am bulding my projects so i might ask question and ask you about erros so pls before answering you can ask me you want response for js or python\".', type='TextMessage')], stop_reason=None)"
      ]
     },
     "execution_count": 6,
     "metadata": {},
     "output_type": "execute_result"
    }
   ],
   "source": [
    "response = await assistant_agent.run(task=\"What was my last question?\")\n",
    "response.messages[-1].content"
   ]
  },
  {
   "cell_type": "code",
   "execution_count": 8,
   "id": "4664c2ea",
   "metadata": {},
   "outputs": [
    {
     "data": {
      "text/plain": [
       "\"Certainly, here's an example of a JavaScript function that takes in a single parameter (the number to be tested) and returns true if the number is prime, and false otherwise:\\n```\\nfunction isPrime(n) {\\n  // Check if n is greater than 1\\n  if (n <= 1) return false;\\n\\n  // Check if n is divisible by any number between 2 and the square root of n\\n  for (let i = 2; i * i <= n; i++) {\\n    if (n % i === 0) return false;\\n  }\\n\\n  return true;\\n}\\n```\\nYou can call this function with a number as an argument, like this:\\n```\\nconsole.log(isPrime(13)); // Output: true\\nconsole.log(isPrime(42)); // Output: false\\n```\\nPlease note that this is just one way to write the function, and there are many other ways to approach the problem.\""
      ]
     },
     "execution_count": 8,
     "metadata": {},
     "output_type": "execute_result"
    }
   ],
   "source": [
    "response = await assistant_agent.run(task=\"can u write a function to identify a number is prime or not?\")\n",
    "response.messages[-1].content"
   ]
  },
  {
   "cell_type": "code",
   "execution_count": 9,
   "id": "0f781d65",
   "metadata": {},
   "outputs": [
    {
     "data": {
      "text/plain": [
       "\"I apologize for the confusion earlier. Since you mentioned that you are a software developer and you are looking for assistance with JavaScript and Python, I'm assuming that your question was about the location of your workplace or home. If that's correct, please let me know if you have any other questions or concerns related to your work or personal life.\""
      ]
     },
     "execution_count": 9,
     "metadata": {},
     "output_type": "execute_result"
    }
   ],
   "source": [
    "response = await assistant_agent.run(task=\"Where do i live\")\n",
    "response.messages[-1].content"
   ]
  },
  {
   "cell_type": "code",
   "execution_count": 10,
   "id": "9bf3a353",
   "metadata": {},
   "outputs": [
    {
     "data": {
      "text/plain": [
       "\"I apologize for the confusion earlier. Yes, I can definitely help with any JavaScript or Python-related questions or tasks that you may have. Please feel free to ask me anything related to these topics, and I'll do my best to assist you.\""
      ]
     },
     "execution_count": 10,
     "metadata": {},
     "output_type": "execute_result"
    }
   ],
   "source": [
    "response = await assistant_agent.run(task=\"yes but still you can answer?\")\n",
    "response.messages[-1].content"
   ]
  },
  {
   "cell_type": "code",
   "execution_count": 11,
   "id": "50873664",
   "metadata": {},
   "outputs": [
    {
     "data": {
      "text/plain": [
       "\"As a software developer, you can use a variety of programming languages depending on the specific task or project you are working on. Some popular programming languages for web development include JavaScript, Python, and Java. Other common languages include C++, Ruby, PHP, and Go. It's important to choose a language that aligns with your skillset and the requirements of the project you are working on.\""
      ]
     },
     "execution_count": 11,
     "metadata": {},
     "output_type": "execute_result"
    }
   ],
   "source": [
    "response = await assistant_agent.run(task=\"which language i use as a software developer\")\n",
    "response.messages[-1].content"
   ]
  },
  {
   "cell_type": "code",
   "execution_count": 12,
   "id": "9a163602",
   "metadata": {},
   "outputs": [
    {
     "data": {
      "text/plain": [
       "\"Your occupation is a software developer. As a helpful AI assistant, I can offer some suggestions on how you can improve your skills and knowledge in this field.\\n\\nFirstly, it would be beneficial for you to learn more about different programming languages and frameworks used in the industry. You can explore online resources such as Udemy, Coursera, or edX to gain a deeper understanding of these topics. Additionally, you can also look into books and online courses that focus on software development and related fields.\\n\\nSecondly, you can also consider joining online communities or forums where developers share knowledge and collaborate with each other. This would be an excellent way to connect with experienced developers and learn from their experiences.\\n\\nLastly, it's important to practice your coding skills by working on real-world projects or taking on freelance work. This will help you gain hands-on experience and improve your problem-solving abilities.\\n\\nKeep in mind that software development is a continuous learning process, so it's essential to stay up-to-date with the latest trends and technologies. I hope these suggestions are helpful, Mahavir! If you have any further questions or need assistance, feel free to ask.\""
      ]
     },
     "execution_count": 12,
     "metadata": {},
     "output_type": "execute_result"
    }
   ],
   "source": [
    "response = await assistant_agent.run(task=\"what is my occupation\")\n",
    "response.messages[-1].content"
   ]
  },
  {
   "cell_type": "code",
   "execution_count": 13,
   "id": "0f111b36",
   "metadata": {},
   "outputs": [
    {
     "data": {
      "text/plain": [
       "'Your name is Mahavir Rajpurush.'"
      ]
     },
     "execution_count": 13,
     "metadata": {},
     "output_type": "execute_result"
    }
   ],
   "source": [
    "response = await assistant_agent.run(task=\"what is my name\")\n",
    "response.messages[-1].content"
   ]
  },
  {
   "cell_type": "code",
   "execution_count": null,
   "id": "b726f89f",
   "metadata": {},
   "outputs": [],
   "source": []
  }
 ],
 "metadata": {
  "kernelspec": {
   "display_name": "gen-ai-projects",
   "language": "python",
   "name": "python3"
  },
  "language_info": {
   "codemirror_mode": {
    "name": "ipython",
    "version": 3
   },
   "file_extension": ".py",
   "mimetype": "text/x-python",
   "name": "python",
   "nbconvert_exporter": "python",
   "pygments_lexer": "ipython3",
   "version": "3.12.11"
  }
 },
 "nbformat": 4,
 "nbformat_minor": 5
}
