{
 "cells": [
  {
   "cell_type": "code",
   "execution_count": 1,
   "id": "8e43f377",
   "metadata": {},
   "outputs": [],
   "source": [
    "import os\n",
    "import json\n",
    "from dotenv import load_dotenv\n",
    "from autogen_agentchat.agents import AssistantAgent\n",
    "from autogen_ext.models.openai import OpenAIChatCompletionClient\n",
    "from autogen_ext.models.ollama import OllamaChatCompletionClient\n",
    "\n",
    "load_dotenv()\n",
    "\n",
    "OPEN_AI_API_KEYS = os.getenv('OPEN_AI_API_KEYS')\n"
   ]
  },
  {
   "cell_type": "code",
   "execution_count": 4,
   "id": "6bfe6da9",
   "metadata": {},
   "outputs": [],
   "source": [
    "# model_info = {\"description\":\"Open AI LLM model\",\n",
    "#               \"json_output\": False  ,\n",
    "#               \"vision\":False,\n",
    "#               \"function_calling\":True,\n",
    "#               \"family\":\"unknown\"\n",
    "#               }\n",
    "\n",
    "# llm_client = OpenAIChatCompletionClient(model=\"gpt-oss-120b\",api_key=OPEN_AI_API_KEYS,model_info=model_info)\n",
    "# llm_client\n",
    "\n",
    "llm = OllamaChatCompletionClient(model=\"codellama:latest\",host=\"http://localhost:11434\",model_info={\n",
    "        \"description\": \"codellama:latest running locally using ollama server\",\n",
    "        \"json_output\": False  ,\n",
    "        \"vision\":False,\n",
    "        \"function_calling\":True\n",
    "    })\n"
   ]
  },
  {
   "cell_type": "code",
   "execution_count": 5,
   "id": "91453c5b",
   "metadata": {},
   "outputs": [
    {
     "data": {
      "text/plain": [
       "<autogen_agentchat.agents._assistant_agent.AssistantAgent at 0x792d5a832d80>"
      ]
     },
     "execution_count": 5,
     "metadata": {},
     "output_type": "execute_result"
    }
   ],
   "source": [
    "my_agent = AssistantAgent('ai_assistant',llm)\n",
    "my_agent"
   ]
  },
  {
   "cell_type": "code",
   "execution_count": 6,
   "id": "746dc501",
   "metadata": {},
   "outputs": [
    {
     "data": {
      "text/plain": [
       "TaskResult(messages=[TextMessage(id='89dde58e-fb2a-417c-88af-c055e404aa49', source='user', models_usage=None, metadata={}, created_at=datetime.datetime(2025, 9, 8, 14, 37, 47, 373745, tzinfo=datetime.timezone.utc), content='Hey there', type='TextMessage'), TextMessage(id='987f0237-1858-47aa-8bb0-d9be1420db60', source='ai_assistant', models_usage=RequestUsage(prompt_tokens=51, completion_tokens=30), metadata={}, created_at=datetime.datetime(2025, 9, 8, 14, 37, 49, 312215, tzinfo=datetime.timezone.utc), content=\"Hello! I'm here to help you with any questions or tasks you may have. What would you like me to assist you with today?\", type='TextMessage')], stop_reason=None)"
      ]
     },
     "execution_count": 6,
     "metadata": {},
     "output_type": "execute_result"
    }
   ],
   "source": [
    "response = await my_agent.run(task=\"Hey there\")\n",
    "response"
   ]
  },
  {
   "cell_type": "code",
   "execution_count": null,
   "id": "8c6124ee",
   "metadata": {},
   "outputs": [
    {
     "data": {
      "text/plain": [
       "\"Hello! I'm here to help you with any questions or tasks you may have. What would you like me to assist you with today?\""
      ]
     },
     "execution_count": 7,
     "metadata": {},
     "output_type": "execute_result"
    }
   ],
   "source": []
  },
  {
   "cell_type": "code",
   "execution_count": 8,
   "id": "542f2432",
   "metadata": {},
   "outputs": [
    {
     "data": {
      "text/plain": [
       "\"Greetings, Mahavir! It's great to meet you. I can see that you have a good background in software development. As a helpful AI assistant, I can offer some suggestions on how you can improve your skills and knowledge.\\n\\nFirstly, it would be beneficial for you to learn more about different programming languages and frameworks used in the industry. You can explore online resources such as Udemy, Coursera, or edX to gain a deeper understanding of these topics. Additionally, you can also look into books and online courses that focus on software development and related fields.\\n\\nSecondly, you can also consider joining online communities or forums where developers share knowledge and collaborate with each other. This would be an excellent way to connect with experienced developers and learn from their experiences.\\n\\nLastly, it's important to practice your coding skills by working on real-world projects or taking on freelance work. This will help you gain hands-on experience and improve your problem-solving abilities.\\n\\nKeep in mind that software development is a continuous learning process, so it's essential to stay up-to-date with the latest trends and technologies. I hope these suggestions are helpful, Mahavir! If you have any further questions or need assistance, feel free to ask.\""
      ]
     },
     "execution_count": 8,
     "metadata": {},
     "output_type": "execute_result"
    }
   ],
   "source": [
    "response = await my_agent.run(task=\"my names is mahavir rajpurohit. i am a software developer and i live in mumbai maharashtra. i am a full stack developer. i use js for frontend and python for backend\")\n",
    "response.messages[1].content"
   ]
  },
  {
   "cell_type": "code",
   "execution_count": 9,
   "id": "0de01e3c",
   "metadata": {},
   "outputs": [
    {
     "data": {
      "text/plain": [
       "\"Of course, I'd be happy to assist you with your projects! I can provide guidance and answer any questions you may have related to JavaScript or Python. Please feel free to ask me anything, and I'll do my best to help.\""
      ]
     },
     "execution_count": 9,
     "metadata": {},
     "output_type": "execute_result"
    }
   ],
   "source": [
    "response = await my_agent.run(task=\"can u become my assitant.i will need your help when i am bulding my projects so i might ask question and ask you about erros so pls before answering you can ask me you want response for js or python\")\n",
    "response.messages[1].content"
   ]
  },
  {
   "cell_type": "code",
   "execution_count": null,
   "id": "be51a75c",
   "metadata": {},
   "outputs": [],
   "source": []
  },
  {
   "cell_type": "code",
   "execution_count": 10,
   "id": "9f03d95f",
   "metadata": {},
   "outputs": [],
   "source": [
    "context = await my_agent.save_state()"
   ]
  },
  {
   "cell_type": "code",
   "execution_count": null,
   "id": "f7824bb4",
   "metadata": {},
   "outputs": [],
   "source": [
    "context['llm_context']['messages']"
   ]
  },
  {
   "cell_type": "code",
   "execution_count": null,
   "id": "775fa332",
   "metadata": {},
   "outputs": [],
   "source": [
    "context"
   ]
  },
  {
   "cell_type": "code",
   "execution_count": 11,
   "id": "a0547045",
   "metadata": {},
   "outputs": [],
   "source": [
    "with open('testing_context.json','w') as f:\n",
    "    json.dump(context,f)"
   ]
  },
  {
   "cell_type": "code",
   "execution_count": 1,
   "id": "2af5c2ca",
   "metadata": {},
   "outputs": [],
   "source": [
    "import json"
   ]
  },
  {
   "cell_type": "code",
   "execution_count": 3,
   "id": "53da9f42",
   "metadata": {},
   "outputs": [
    {
     "data": {
      "text/plain": [
       "{'type': 'AssistantAgentState',\n",
       " 'version': '1.0.0',\n",
       " 'llm_context': {'messages': [{'content': 'who is parth samthan',\n",
       "    'source': 'rahul',\n",
       "    'type': 'UserMessage'},\n",
       "   {'content': 'Parth Samthan is an Indian actor and comedian who is known for his work in Hindi cinema. He has acted in numerous films, including \"Ghuma\" and \"Mujhe Jeene Kyun Kiya\". Some of his notable roles include the character of \"Veer Pratap Singh\" in the TV series \"Shriman Pratap\", the character of \"Raj\" in the TV series \"Sonu Ke Taarfe\", and the character of \"Mohan Lal\" in the TV series \"Aurangzeb\". Samthan has also hosted several television shows, including \"Zee TV\\'s Khaas\" and \"NH1\\'s Kahaani Ka Aangan\". He is known for his comedic timing and his ability to play multiple characters with ease.',\n",
       "    'thought': None,\n",
       "    'source': 'assitant_agent',\n",
       "    'type': 'AssistantMessage'}]}}"
      ]
     },
     "execution_count": 3,
     "metadata": {},
     "output_type": "execute_result"
    }
   ],
   "source": [
    "with open('../../temp_testing_context.json',\"r\") as f:\n",
    "    existing_context = json.loads(f.read())\n",
    "\n",
    "existing_context"
   ]
  },
  {
   "cell_type": "code",
   "execution_count": 8,
   "id": "146b80e2",
   "metadata": {},
   "outputs": [
    {
     "data": {
      "text/plain": [
       "list"
      ]
     },
     "execution_count": 8,
     "metadata": {},
     "output_type": "execute_result"
    }
   ],
   "source": [
    "type(existing_context['llm_context']['messages'])"
   ]
  },
  {
   "cell_type": "code",
   "execution_count": 9,
   "id": "cd030c76",
   "metadata": {},
   "outputs": [
    {
     "data": {
      "text/plain": [
       "2"
      ]
     },
     "execution_count": 9,
     "metadata": {},
     "output_type": "execute_result"
    }
   ],
   "source": [
    "\n",
    "len(existing_context['llm_context']['messages'])"
   ]
  },
  {
   "cell_type": "code",
   "execution_count": 10,
   "id": "9cbfbfd3",
   "metadata": {},
   "outputs": [
    {
     "data": {
      "text/plain": [
       "[{'content': 'who is parth samthan', 'source': 'rahul', 'type': 'UserMessage'},\n",
       " {'content': 'Parth Samthan is an Indian actor and comedian who is known for his work in Hindi cinema. He has acted in numerous films, including \"Ghuma\" and \"Mujhe Jeene Kyun Kiya\". Some of his notable roles include the character of \"Veer Pratap Singh\" in the TV series \"Shriman Pratap\", the character of \"Raj\" in the TV series \"Sonu Ke Taarfe\", and the character of \"Mohan Lal\" in the TV series \"Aurangzeb\". Samthan has also hosted several television shows, including \"Zee TV\\'s Khaas\" and \"NH1\\'s Kahaani Ka Aangan\". He is known for his comedic timing and his ability to play multiple characters with ease.',\n",
       "  'thought': None,\n",
       "  'source': 'assitant_agent',\n",
       "  'type': 'AssistantMessage'}]"
      ]
     },
     "execution_count": 10,
     "metadata": {},
     "output_type": "execute_result"
    }
   ],
   "source": [
    "existing_context['llm_context']['messages']"
   ]
  },
  {
   "cell_type": "code",
   "execution_count": 11,
   "id": "30f84b6b",
   "metadata": {},
   "outputs": [
    {
     "data": {
      "text/plain": [
       "{'type': 'AssistantAgentState',\n",
       " 'version': '1.0.0',\n",
       " 'llm_context': {'messages': [{'content': 'what is quntum physics',\n",
       "    'source': 'rahul',\n",
       "    'type': 'UserMessage'},\n",
       "   {'content': 'Quantum physics is a branch of physics that focuses on the behavior of matter and energy at the smallest scales, at which the classical laws of physics do not apply. It is a fundamental theory that seeks to explain the behavior of particles at the quantum level, such as atoms, electrons, and photons.\\n\\nQuantum physics is based on the principles of wave-particle duality, uncertainty, and the probabilistic nature of physical phenomena. It has led to many groundbreaking discoveries, including the development of new technologies like transistors, lasers, and computer chips.\\n\\nSome key concepts in quantum physics include:\\n\\n* Wave-particle duality: Quantum objects, such as electrons, can exhibit both wave-like and particle-like behavior depending on how they are observed.\\n* Uncertainty principle: It is impossible to know certain properties of a quantum object, such as its position and momentum, simultaneously with infinite precision.\\n* Superposition: Quantum objects can exist in multiple states at the same time, until they are observed.\\n* Entanglement: Quantum objects can become \"entangled\" in such a way that the state of one object is dependent on the state of another, even if they are separated by large distances.\\n\\nQuantum physics has also led to the development of new technologies and fields, such as quantum computing, quantum cryptography, and quantum communication networks. These technologies have the potential to revolutionize many areas of our lives, from secure data transmission to advanced medical treatments.\\n\\nTERMINATE',\n",
       "    'thought': None,\n",
       "    'source': 'assitant_agent',\n",
       "    'type': 'AssistantMessage'}]}}"
      ]
     },
     "execution_count": 11,
     "metadata": {},
     "output_type": "execute_result"
    }
   ],
   "source": [
    "with open('../../temp_new_testing_context.json',\"r\") as f:\n",
    "    new_context = json.loads(f.read())\n",
    "\n",
    "new_context"
   ]
  },
  {
   "cell_type": "code",
   "execution_count": 12,
   "id": "e778cacc",
   "metadata": {},
   "outputs": [
    {
     "data": {
      "text/plain": [
       "[{'content': 'what is quntum physics',\n",
       "  'source': 'rahul',\n",
       "  'type': 'UserMessage'},\n",
       " {'content': 'Quantum physics is a branch of physics that focuses on the behavior of matter and energy at the smallest scales, at which the classical laws of physics do not apply. It is a fundamental theory that seeks to explain the behavior of particles at the quantum level, such as atoms, electrons, and photons.\\n\\nQuantum physics is based on the principles of wave-particle duality, uncertainty, and the probabilistic nature of physical phenomena. It has led to many groundbreaking discoveries, including the development of new technologies like transistors, lasers, and computer chips.\\n\\nSome key concepts in quantum physics include:\\n\\n* Wave-particle duality: Quantum objects, such as electrons, can exhibit both wave-like and particle-like behavior depending on how they are observed.\\n* Uncertainty principle: It is impossible to know certain properties of a quantum object, such as its position and momentum, simultaneously with infinite precision.\\n* Superposition: Quantum objects can exist in multiple states at the same time, until they are observed.\\n* Entanglement: Quantum objects can become \"entangled\" in such a way that the state of one object is dependent on the state of another, even if they are separated by large distances.\\n\\nQuantum physics has also led to the development of new technologies and fields, such as quantum computing, quantum cryptography, and quantum communication networks. These technologies have the potential to revolutionize many areas of our lives, from secure data transmission to advanced medical treatments.\\n\\nTERMINATE',\n",
       "  'thought': None,\n",
       "  'source': 'assitant_agent',\n",
       "  'type': 'AssistantMessage'}]"
      ]
     },
     "execution_count": 12,
     "metadata": {},
     "output_type": "execute_result"
    }
   ],
   "source": [
    "\n",
    "new_context['llm_context']['messages']"
   ]
  },
  {
   "cell_type": "code",
   "execution_count": 13,
   "id": "243aed44",
   "metadata": {},
   "outputs": [
    {
     "data": {
      "text/plain": [
       "[{'content': 'who is parth samthan', 'source': 'rahul', 'type': 'UserMessage'},\n",
       " {'content': 'Parth Samthan is an Indian actor and comedian who is known for his work in Hindi cinema. He has acted in numerous films, including \"Ghuma\" and \"Mujhe Jeene Kyun Kiya\". Some of his notable roles include the character of \"Veer Pratap Singh\" in the TV series \"Shriman Pratap\", the character of \"Raj\" in the TV series \"Sonu Ke Taarfe\", and the character of \"Mohan Lal\" in the TV series \"Aurangzeb\". Samthan has also hosted several television shows, including \"Zee TV\\'s Khaas\" and \"NH1\\'s Kahaani Ka Aangan\". He is known for his comedic timing and his ability to play multiple characters with ease.',\n",
       "  'thought': None,\n",
       "  'source': 'assitant_agent',\n",
       "  'type': 'AssistantMessage'}]"
      ]
     },
     "execution_count": 13,
     "metadata": {},
     "output_type": "execute_result"
    }
   ],
   "source": [
    "a = existing_context['llm_context']['messages']\n",
    "a"
   ]
  },
  {
   "cell_type": "code",
   "execution_count": 14,
   "id": "753b55f6",
   "metadata": {},
   "outputs": [
    {
     "data": {
      "text/plain": [
       "[{'content': 'what is quntum physics',\n",
       "  'source': 'rahul',\n",
       "  'type': 'UserMessage'},\n",
       " {'content': 'Quantum physics is a branch of physics that focuses on the behavior of matter and energy at the smallest scales, at which the classical laws of physics do not apply. It is a fundamental theory that seeks to explain the behavior of particles at the quantum level, such as atoms, electrons, and photons.\\n\\nQuantum physics is based on the principles of wave-particle duality, uncertainty, and the probabilistic nature of physical phenomena. It has led to many groundbreaking discoveries, including the development of new technologies like transistors, lasers, and computer chips.\\n\\nSome key concepts in quantum physics include:\\n\\n* Wave-particle duality: Quantum objects, such as electrons, can exhibit both wave-like and particle-like behavior depending on how they are observed.\\n* Uncertainty principle: It is impossible to know certain properties of a quantum object, such as its position and momentum, simultaneously with infinite precision.\\n* Superposition: Quantum objects can exist in multiple states at the same time, until they are observed.\\n* Entanglement: Quantum objects can become \"entangled\" in such a way that the state of one object is dependent on the state of another, even if they are separated by large distances.\\n\\nQuantum physics has also led to the development of new technologies and fields, such as quantum computing, quantum cryptography, and quantum communication networks. These technologies have the potential to revolutionize many areas of our lives, from secure data transmission to advanced medical treatments.\\n\\nTERMINATE',\n",
       "  'thought': None,\n",
       "  'source': 'assitant_agent',\n",
       "  'type': 'AssistantMessage'}]"
      ]
     },
     "execution_count": 14,
     "metadata": {},
     "output_type": "execute_result"
    }
   ],
   "source": [
    "b = new_context['llm_context']['messages']\n",
    "b"
   ]
  },
  {
   "cell_type": "code",
   "execution_count": 15,
   "id": "867f3f6a",
   "metadata": {},
   "outputs": [
    {
     "data": {
      "text/plain": [
       "[{'content': 'who is parth samthan', 'source': 'rahul', 'type': 'UserMessage'},\n",
       " {'content': 'Parth Samthan is an Indian actor and comedian who is known for his work in Hindi cinema. He has acted in numerous films, including \"Ghuma\" and \"Mujhe Jeene Kyun Kiya\". Some of his notable roles include the character of \"Veer Pratap Singh\" in the TV series \"Shriman Pratap\", the character of \"Raj\" in the TV series \"Sonu Ke Taarfe\", and the character of \"Mohan Lal\" in the TV series \"Aurangzeb\". Samthan has also hosted several television shows, including \"Zee TV\\'s Khaas\" and \"NH1\\'s Kahaani Ka Aangan\". He is known for his comedic timing and his ability to play multiple characters with ease.',\n",
       "  'thought': None,\n",
       "  'source': 'assitant_agent',\n",
       "  'type': 'AssistantMessage'},\n",
       " {'content': 'what is quntum physics',\n",
       "  'source': 'rahul',\n",
       "  'type': 'UserMessage'},\n",
       " {'content': 'Quantum physics is a branch of physics that focuses on the behavior of matter and energy at the smallest scales, at which the classical laws of physics do not apply. It is a fundamental theory that seeks to explain the behavior of particles at the quantum level, such as atoms, electrons, and photons.\\n\\nQuantum physics is based on the principles of wave-particle duality, uncertainty, and the probabilistic nature of physical phenomena. It has led to many groundbreaking discoveries, including the development of new technologies like transistors, lasers, and computer chips.\\n\\nSome key concepts in quantum physics include:\\n\\n* Wave-particle duality: Quantum objects, such as electrons, can exhibit both wave-like and particle-like behavior depending on how they are observed.\\n* Uncertainty principle: It is impossible to know certain properties of a quantum object, such as its position and momentum, simultaneously with infinite precision.\\n* Superposition: Quantum objects can exist in multiple states at the same time, until they are observed.\\n* Entanglement: Quantum objects can become \"entangled\" in such a way that the state of one object is dependent on the state of another, even if they are separated by large distances.\\n\\nQuantum physics has also led to the development of new technologies and fields, such as quantum computing, quantum cryptography, and quantum communication networks. These technologies have the potential to revolutionize many areas of our lives, from secure data transmission to advanced medical treatments.\\n\\nTERMINATE',\n",
       "  'thought': None,\n",
       "  'source': 'assitant_agent',\n",
       "  'type': 'AssistantMessage'}]"
      ]
     },
     "execution_count": 15,
     "metadata": {},
     "output_type": "execute_result"
    }
   ],
   "source": [
    "c = a + b\n",
    "c"
   ]
  },
  {
   "cell_type": "code",
   "execution_count": null,
   "id": "7f4874cb",
   "metadata": {},
   "outputs": [],
   "source": []
  }
 ],
 "metadata": {
  "kernelspec": {
   "display_name": "gen-ai-projects",
   "language": "python",
   "name": "python3"
  },
  "language_info": {
   "codemirror_mode": {
    "name": "ipython",
    "version": 3
   },
   "file_extension": ".py",
   "mimetype": "text/x-python",
   "name": "python",
   "nbconvert_exporter": "python",
   "pygments_lexer": "ipython3",
   "version": "3.12.11"
  }
 },
 "nbformat": 4,
 "nbformat_minor": 5
}
